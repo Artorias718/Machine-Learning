{
 "cells": [
  {
   "cell_type": "code",
   "execution_count": 391,
   "metadata": {},
   "outputs": [],
   "source": [
    "from sklearn.datasets import load_breast_cancer\n",
    "import numpy as np\n",
    "from sklearn.linear_model import LogisticRegression\n",
    "from sklearn.model_selection import train_test_split\n",
    "import matplotlib.pyplot as plt\n",
    "\n",
    "import pandas as pd\n",
    "from sklearn.model_selection import train_test_split\n",
    "\n"
   ]
  },
  {
   "attachments": {},
   "cell_type": "markdown",
   "metadata": {},
   "source": [
    "# Loading datasets"
   ]
  },
  {
   "cell_type": "code",
   "execution_count": 392,
   "metadata": {},
   "outputs": [],
   "source": [
    "X,y = load_breast_cancer(return_X_y=True)\n",
    "\n",
    "#X = np.array([[1, 2],[3, 4],[5, 6],[7, 8],[9, 10],[97, 10],[9, 140]])\n",
    "\n",
    "#y = np.array([0, 0, 1, 1, 0, 1,1])\n",
    "\n",
    "#Il parametro return_X_y=True specifica che la funzione deve restituire sia le features (variabili indipendenti) che i target (variabile dipendente) separatamente.\n",
    "#X: Contiene le features (variabili indipendenti) del dataset di Breast Cancer.\n",
    "#y: Contiene i target (variabile dipendente) del dataset di Breast Cancer. Questi target rappresentano l'etichetta di classe associata a ogni campione \n",
    "# e indicano se il tumore è benigno (0) o maligno (1)."
   ]
  },
  {
   "cell_type": "code",
   "execution_count": 393,
   "metadata": {},
   "outputs": [],
   "source": [
    "data = load_breast_cancer()\n",
    "# Crea un dataframe pandas con le features e i target, per visualizzarlo meglio\n",
    "df = pd.DataFrame(data.data, columns=data.feature_names)\n",
    "df['target'] = data.target\n",
    "\n",
    "# Stampa il dataframe\n",
    "#print(df)\n",
    "\n",
    "#TODO Split train/test, decidiamo noi la dimensione\n",
    "train_data, test_data, train_labels, test_labels = train_test_split(X, y, test_size=0.33, shuffle=True, random_state=0)\n",
    "\n",
    "#print(X)\n",
    "#print(y)\n",
    "#print(test_data)\n",
    "#print(test_labels)\n",
    "#print(train_data)\n",
    "#print(train_labels)\n",
    "\n"
   ]
  },
  {
   "attachments": {},
   "cell_type": "markdown",
   "metadata": {},
   "source": []
  },
  {
   "attachments": {},
   "cell_type": "markdown",
   "metadata": {},
   "source": [
    "# Fitting the data"
   ]
  },
  {
   "cell_type": "code",
   "execution_count": 394,
   "metadata": {},
   "outputs": [],
   "source": [
    "lr = LogisticRegression(max_iter=10000)"
   ]
  },
  {
   "cell_type": "code",
   "execution_count": 395,
   "metadata": {},
   "outputs": [
    {
     "data": {
      "text/html": [
       "<style>#sk-container-id-29 {color: black;background-color: white;}#sk-container-id-29 pre{padding: 0;}#sk-container-id-29 div.sk-toggleable {background-color: white;}#sk-container-id-29 label.sk-toggleable__label {cursor: pointer;display: block;width: 100%;margin-bottom: 0;padding: 0.3em;box-sizing: border-box;text-align: center;}#sk-container-id-29 label.sk-toggleable__label-arrow:before {content: \"▸\";float: left;margin-right: 0.25em;color: #696969;}#sk-container-id-29 label.sk-toggleable__label-arrow:hover:before {color: black;}#sk-container-id-29 div.sk-estimator:hover label.sk-toggleable__label-arrow:before {color: black;}#sk-container-id-29 div.sk-toggleable__content {max-height: 0;max-width: 0;overflow: hidden;text-align: left;background-color: #f0f8ff;}#sk-container-id-29 div.sk-toggleable__content pre {margin: 0.2em;color: black;border-radius: 0.25em;background-color: #f0f8ff;}#sk-container-id-29 input.sk-toggleable__control:checked~div.sk-toggleable__content {max-height: 200px;max-width: 100%;overflow: auto;}#sk-container-id-29 input.sk-toggleable__control:checked~label.sk-toggleable__label-arrow:before {content: \"▾\";}#sk-container-id-29 div.sk-estimator input.sk-toggleable__control:checked~label.sk-toggleable__label {background-color: #d4ebff;}#sk-container-id-29 div.sk-label input.sk-toggleable__control:checked~label.sk-toggleable__label {background-color: #d4ebff;}#sk-container-id-29 input.sk-hidden--visually {border: 0;clip: rect(1px 1px 1px 1px);clip: rect(1px, 1px, 1px, 1px);height: 1px;margin: -1px;overflow: hidden;padding: 0;position: absolute;width: 1px;}#sk-container-id-29 div.sk-estimator {font-family: monospace;background-color: #f0f8ff;border: 1px dotted black;border-radius: 0.25em;box-sizing: border-box;margin-bottom: 0.5em;}#sk-container-id-29 div.sk-estimator:hover {background-color: #d4ebff;}#sk-container-id-29 div.sk-parallel-item::after {content: \"\";width: 100%;border-bottom: 1px solid gray;flex-grow: 1;}#sk-container-id-29 div.sk-label:hover label.sk-toggleable__label {background-color: #d4ebff;}#sk-container-id-29 div.sk-serial::before {content: \"\";position: absolute;border-left: 1px solid gray;box-sizing: border-box;top: 0;bottom: 0;left: 50%;z-index: 0;}#sk-container-id-29 div.sk-serial {display: flex;flex-direction: column;align-items: center;background-color: white;padding-right: 0.2em;padding-left: 0.2em;position: relative;}#sk-container-id-29 div.sk-item {position: relative;z-index: 1;}#sk-container-id-29 div.sk-parallel {display: flex;align-items: stretch;justify-content: center;background-color: white;position: relative;}#sk-container-id-29 div.sk-item::before, #sk-container-id-29 div.sk-parallel-item::before {content: \"\";position: absolute;border-left: 1px solid gray;box-sizing: border-box;top: 0;bottom: 0;left: 50%;z-index: -1;}#sk-container-id-29 div.sk-parallel-item {display: flex;flex-direction: column;z-index: 1;position: relative;background-color: white;}#sk-container-id-29 div.sk-parallel-item:first-child::after {align-self: flex-end;width: 50%;}#sk-container-id-29 div.sk-parallel-item:last-child::after {align-self: flex-start;width: 50%;}#sk-container-id-29 div.sk-parallel-item:only-child::after {width: 0;}#sk-container-id-29 div.sk-dashed-wrapped {border: 1px dashed gray;margin: 0 0.4em 0.5em 0.4em;box-sizing: border-box;padding-bottom: 0.4em;background-color: white;}#sk-container-id-29 div.sk-label label {font-family: monospace;font-weight: bold;display: inline-block;line-height: 1.2em;}#sk-container-id-29 div.sk-label-container {text-align: center;}#sk-container-id-29 div.sk-container {/* jupyter's `normalize.less` sets `[hidden] { display: none; }` but bootstrap.min.css set `[hidden] { display: none !important; }` so we also need the `!important` here to be able to override the default hidden behavior on the sphinx rendered scikit-learn.org. See: https://github.com/scikit-learn/scikit-learn/issues/21755 */display: inline-block !important;position: relative;}#sk-container-id-29 div.sk-text-repr-fallback {display: none;}</style><div id=\"sk-container-id-29\" class=\"sk-top-container\"><div class=\"sk-text-repr-fallback\"><pre>LogisticRegression(max_iter=10000)</pre><b>In a Jupyter environment, please rerun this cell to show the HTML representation or trust the notebook. <br />On GitHub, the HTML representation is unable to render, please try loading this page with nbviewer.org.</b></div><div class=\"sk-container\" hidden><div class=\"sk-item\"><div class=\"sk-estimator sk-toggleable\"><input class=\"sk-toggleable__control sk-hidden--visually\" id=\"sk-estimator-id-29\" type=\"checkbox\" checked><label for=\"sk-estimator-id-29\" class=\"sk-toggleable__label sk-toggleable__label-arrow\">LogisticRegression</label><div class=\"sk-toggleable__content\"><pre>LogisticRegression(max_iter=10000)</pre></div></div></div></div></div>"
      ],
      "text/plain": [
       "LogisticRegression(max_iter=10000)"
      ]
     },
     "execution_count": 395,
     "metadata": {},
     "output_type": "execute_result"
    }
   ],
   "source": [
    "lr.fit(train_data, train_labels)"
   ]
  },
  {
   "attachments": {},
   "cell_type": "markdown",
   "metadata": {},
   "source": [
    "# Making predictions"
   ]
  },
  {
   "cell_type": "code",
   "execution_count": 396,
   "metadata": {},
   "outputs": [
    {
     "name": "stdout",
     "output_type": "stream",
     "text": [
      "[0 1 1 1 1 1 1 1 1 1 0 1 1 0 1 0 1 0 0 0 0 0 1 1 0 1 1 0 1 0 1 0 1 0 1 0 1\n",
      " 0 1 0 0 1 0 1 0 0 1 1 1 0 0 0 0 1 1 1 1 1 1 0 0 0 1 1 0 1 0 0 0 1 0 0 1 1\n",
      " 0 1 1 1 1 1 0 0 0 1 0 1 1 1 0 0 1 0 0 0 1 1 0 1 1 1 1 1 1 1 0 1 0 1 0 0 1\n",
      " 0 0 1 1 1 1 1 1 1 1 1 0 1 0 1 0 1 1 1 0 1 1 1 1 1 1 0 0 1 1 1 0 1 1 0 1 0\n",
      " 1 1 1 1 1 1 1 0 1 0 1 0 0 1 1 0 1 0 0 0 1 1 1 1 1 1 0 1 1 1 1 0 0 1 1 0 1\n",
      " 1 1 1]\n",
      "[0 1 1 1 1 1 1 1 1 1 1 1 1 1 1 0 1 0 0 0 0 0 1 1 0 1 1 0 1 0 1 0 1 0 1 0 1\n",
      " 0 1 0 0 1 0 1 1 0 1 1 1 0 0 0 0 1 1 1 1 1 1 0 0 0 1 1 0 1 0 0 0 1 1 0 1 0\n",
      " 0 1 1 1 1 1 0 0 0 1 0 1 1 1 0 0 1 0 1 0 1 1 0 1 1 1 1 1 1 1 0 1 0 1 0 0 1\n",
      " 0 0 1 1 1 1 1 1 1 1 1 0 1 0 1 1 1 1 1 0 1 1 1 1 1 1 0 0 1 1 1 0 1 1 0 1 0\n",
      " 1 1 1 1 1 1 1 0 1 0 1 0 0 1 1 0 1 0 0 0 1 1 1 1 1 1 0 1 1 1 1 0 0 1 1 0 1\n",
      " 1 1 1]\n",
      "[6.95120366e-03 9.67842170e-01 9.96803813e-01 7.84065781e-01\n",
      " 9.99895292e-01 9.96119167e-01 9.89898432e-01 9.97805566e-01\n",
      " 9.59795985e-01 9.99687378e-01 4.86968653e-01 8.39438587e-01\n",
      " 9.94731743e-01 2.29556638e-01 7.22535743e-01 8.85818332e-03\n",
      " 9.77852406e-01 5.39695279e-09 1.86586353e-03 1.14431114e-11\n",
      " 2.98314644e-05 8.26113513e-02 9.97559388e-01 9.85527487e-01\n",
      " 9.01524506e-03 9.84762850e-01 9.96971977e-01 1.57363262e-01\n",
      " 9.95528629e-01 1.46004834e-10 9.99415548e-01 6.45105270e-08\n",
      " 5.76200418e-01 7.31933084e-04 9.99679273e-01 1.68335024e-03\n",
      " 8.97836993e-01 3.03576425e-06 9.94132221e-01 4.48122788e-04\n",
      " 6.95803460e-02 9.92404326e-01 2.93951932e-03 9.98712975e-01\n",
      " 3.99068322e-02 3.84558962e-12 9.99533594e-01 9.67642571e-01\n",
      " 9.98528227e-01 3.59120151e-04 3.76966736e-06 2.43424331e-01\n",
      " 9.22022821e-07 9.93799921e-01 9.87958132e-01 9.98607194e-01\n",
      " 9.82329774e-01 9.79039456e-01 9.80638877e-01 1.00768534e-16\n",
      " 1.27076237e-02 6.83266237e-05 9.96135374e-01 9.93596266e-01\n",
      " 1.46353077e-07 8.80202096e-01 4.57249400e-18 1.41494801e-05\n",
      " 4.26023012e-08 9.88290203e-01 3.71795503e-01 1.41297699e-05\n",
      " 9.96043200e-01 8.35445493e-01 2.12437191e-06 9.71312305e-01\n",
      " 9.95883824e-01 9.89242947e-01 9.92115589e-01 9.90950002e-01\n",
      " 2.00773844e-03 7.19635577e-10 1.94661401e-05 9.99524520e-01\n",
      " 5.68605218e-02 9.98736663e-01 9.95570255e-01 9.97679915e-01\n",
      " 2.63776986e-05 3.14135621e-11 9.99490686e-01 2.12720097e-01\n",
      " 3.65820291e-01 2.69304316e-04 9.82678082e-01 9.84345822e-01\n",
      " 2.69151605e-15 6.94161612e-01 9.58499776e-01 9.87618681e-01\n",
      " 9.97663556e-01 9.93324129e-01 9.91673859e-01 8.85707848e-01\n",
      " 2.27844023e-07 9.96863213e-01 4.07864744e-05 7.94141912e-01\n",
      " 1.77617055e-01 2.12363366e-01 9.72515548e-01 7.96082080e-04\n",
      " 1.57145147e-05 8.63944180e-01 9.93652174e-01 8.49246411e-01\n",
      " 9.29977205e-01 9.99259078e-01 7.90417965e-01 9.92794537e-01\n",
      " 9.87009617e-01 9.97491539e-01 5.56254497e-02 9.90402377e-01\n",
      " 5.18664444e-08 9.48343919e-01 3.48652149e-01 9.99337101e-01\n",
      " 9.98807200e-01 9.98232964e-01 3.56287718e-06 9.82787135e-01\n",
      " 9.96939477e-01 8.60177184e-01 8.69917166e-01 9.99586902e-01\n",
      " 7.05788519e-01 8.40169794e-02 1.51095272e-20 9.99066787e-01\n",
      " 9.97225539e-01 9.99203456e-01 5.18610682e-13 9.92844594e-01\n",
      " 9.98533343e-01 2.17423926e-08 9.37155093e-01 1.33897395e-01\n",
      " 9.85498680e-01 9.88373978e-01 9.92924996e-01 8.56646620e-01\n",
      " 9.38197499e-01 8.67134886e-01 9.98868321e-01 3.43423987e-02\n",
      " 9.41730389e-01 2.66485959e-02 9.95990664e-01 4.13539368e-07\n",
      " 1.12455029e-06 9.96365800e-01 6.18766282e-01 9.61408338e-05\n",
      " 9.97790399e-01 6.90555373e-03 1.50690863e-02 9.91052129e-04\n",
      " 9.31767378e-01 9.83424021e-01 9.98840143e-01 9.95760876e-01\n",
      " 9.99313232e-01 9.89415328e-01 1.63912345e-03 9.97453078e-01\n",
      " 9.96846243e-01 9.91490709e-01 9.99475210e-01 1.66102616e-02\n",
      " 2.43630691e-10 9.11654299e-01 8.50902039e-01 6.21346811e-03\n",
      " 9.99525005e-01 9.98859901e-01 7.09336387e-01 9.97950542e-01]\n"
     ]
    }
   ],
   "source": [
    "scores = lr.predict_proba(test_data)[:,1]  #versione scoring del classificatore\n",
    "#possiamo prendere le etichetta anche così\n",
    "predicted = lr.predict(test_data)\n",
    "print(predicted)\n",
    "print(test_labels)\n",
    "print(scores)"
   ]
  },
  {
   "attachments": {},
   "cell_type": "markdown",
   "metadata": {},
   "source": [
    "# Functions for evaluating fp,tp and accuracy"
   ]
  },
  {
   "cell_type": "code",
   "execution_count": 397,
   "metadata": {},
   "outputs": [
    {
     "name": "stdout",
     "output_type": "stream",
     "text": [
      "Falsi Positivi (FP): 1\n",
      "Veri Positivi (TP): 115\n"
     ]
    }
   ],
   "source": [
    "def eval_fp_tp(actual, predicted):\n",
    "    assert len(actual) == len(predicted), \"Le dimensioni degli array actual e predicted devono essere uguali\"\n",
    "\n",
    "    # Inizializza i contatori per FP e TP\n",
    "    fp = 0\n",
    "    tp = 0\n",
    "\n",
    "    # Calcola il numero di falsi positivi e veri positivi\n",
    "    for i in range(len(actual)):\n",
    "        if actual[i] == 0 and predicted[i] == 1:\n",
    "            fp += 1\n",
    "        elif actual[i] == 1 and predicted[i] == 1:\n",
    "            tp += 1\n",
    "\n",
    "    return fp, tp\n",
    "\n",
    "#TODO questa deve restituire una coppia di valori (TP,FP) date le etichette vere e le etichette predette\n",
    "\n",
    "fp, tp = eval_fp_tp(test_labels, predicted)\n",
    "\n",
    "# Stampa i valori di FP e TP\n",
    "print(\"Falsi Positivi (FP):\", fp)\n",
    "print(\"Veri Positivi (TP):\", tp)"
   ]
  },
  {
   "cell_type": "code",
   "execution_count": null,
   "metadata": {},
   "outputs": [],
   "source": []
  },
  {
   "cell_type": "code",
   "execution_count": 398,
   "metadata": {},
   "outputs": [
    {
     "name": "stdout",
     "output_type": "stream",
     "text": [
      "Accuracy: 0.9627659574468085\n"
     ]
    }
   ],
   "source": [
    "def eval_accuracy(actual, predicted):\n",
    "    assert len(actual) == len(predicted), \"Le dimensioni degli array actual e predicted devono essere uguali\"\n",
    "\n",
    "    # Calcola l'accuratezza\n",
    "    correct = 0\n",
    "    total = len(actual)\n",
    "    for i in range(total):\n",
    "        if actual[i] == predicted[i]:\n",
    "            correct += 1\n",
    "\n",
    "    accuracy = correct / total\n",
    "    return accuracy\n",
    "\n",
    "print(\"Accuracy:\", eval_accuracy(test_labels,predicted))"
   ]
  },
  {
   "attachments": {},
   "cell_type": "markdown",
   "metadata": {},
   "source": [
    "# fp,tp and accuracy evaluations for different thresholds\n",
    "\n",
    "Given the scores for the test cases, we might want to find the best possible threshold for classification, i.e., the real value $t$ such that `scores >` $t$ gives the best classifiation of the examples. \n",
    "\n",
    "Let us then start to consider 100 possible thresholds in the range $[0,1]$:"
   ]
  },
  {
   "cell_type": "code",
   "execution_count": 399,
   "metadata": {},
   "outputs": [
    {
     "name": "stdout",
     "output_type": "stream",
     "text": [
      "[0.   0.01 0.02 0.03 0.04 0.05 0.06 0.07 0.08 0.09 0.1  0.11 0.12 0.13\n",
      " 0.14 0.15 0.16 0.17 0.18 0.19 0.2  0.21 0.22 0.23 0.24 0.25 0.26 0.27\n",
      " 0.28 0.29 0.3  0.31 0.32 0.33 0.34 0.35 0.36 0.37 0.38 0.39 0.4  0.41\n",
      " 0.42 0.43 0.44 0.45 0.46 0.47 0.48 0.49 0.5  0.51 0.52 0.53 0.54 0.55\n",
      " 0.56 0.57 0.58 0.59 0.6  0.61 0.62 0.63 0.64 0.65 0.66 0.67 0.68 0.69\n",
      " 0.7  0.71 0.72 0.73 0.74 0.75 0.76 0.77 0.78 0.79 0.8  0.81 0.82 0.83\n",
      " 0.84 0.85 0.86 0.87 0.88 0.89 0.9  0.91 0.92 0.93 0.94 0.95 0.96 0.97\n",
      " 0.98 0.99]\n"
     ]
    }
   ],
   "source": [
    "thresholds = np.arange(0, 1, 0.01)\n",
    "\n",
    "print(thresholds)\n"
   ]
  },
  {
   "attachments": {},
   "cell_type": "markdown",
   "metadata": {},
   "source": [
    "and compute the tp, fp, and accuracy values of the labelings obtained by comparing the scores with those thresholds."
   ]
  },
  {
   "cell_type": "code",
   "execution_count": 400,
   "metadata": {},
   "outputs": [
    {
     "name": "stdout",
     "output_type": "stream",
     "text": [
      "Accuracy: 0.6436170212765957   trashold: 0.0   fp: 67.0   tp: 121.0\n",
      "Accuracy: 0.9095744680851063   trashold: 0.01   fp: 17.0   tp: 121.0\n",
      "Accuracy: 0.925531914893617   trashold: 0.02   fp: 14.0   tp: 121.0\n",
      "Accuracy: 0.9308510638297872   trashold: 0.03   fp: 13.0   tp: 121.0\n",
      "Accuracy: 0.9308510638297872   trashold: 0.04   fp: 12.0   tp: 120.0\n",
      "Accuracy: 0.9308510638297872   trashold: 0.05   fp: 12.0   tp: 120.0\n",
      "Accuracy: 0.9414893617021277   trashold: 0.06   fp: 10.0   tp: 120.0\n",
      "Accuracy: 0.9468085106382979   trashold: 0.07   fp: 9.0   tp: 120.0\n",
      "Accuracy: 0.9468085106382979   trashold: 0.08   fp: 9.0   tp: 120.0\n",
      "Accuracy: 0.9574468085106383   trashold: 0.09   fp: 7.0   tp: 120.0\n",
      "Accuracy: 0.9574468085106383   trashold: 0.1   fp: 7.0   tp: 120.0\n",
      "Accuracy: 0.9574468085106383   trashold: 0.11   fp: 7.0   tp: 120.0\n",
      "Accuracy: 0.9574468085106383   trashold: 0.12   fp: 7.0   tp: 120.0\n",
      "Accuracy: 0.9574468085106383   trashold: 0.13   fp: 7.0   tp: 120.0\n",
      "Accuracy: 0.9627659574468085   trashold: 0.14   fp: 6.0   tp: 120.0\n",
      "Accuracy: 0.9627659574468085   trashold: 0.15   fp: 6.0   tp: 120.0\n",
      "Accuracy: 0.9680851063829787   trashold: 0.16   fp: 5.0   tp: 120.0\n",
      "Accuracy: 0.9680851063829787   trashold: 0.17   fp: 5.0   tp: 120.0\n",
      "Accuracy: 0.973404255319149   trashold: 0.18   fp: 4.0   tp: 120.0\n",
      "Accuracy: 0.973404255319149   trashold: 0.19   fp: 4.0   tp: 120.0\n",
      "Accuracy: 0.973404255319149   trashold: 0.2   fp: 4.0   tp: 120.0\n",
      "Accuracy: 0.973404255319149   trashold: 0.21   fp: 4.0   tp: 120.0\n",
      "Accuracy: 0.9840425531914894   trashold: 0.22   fp: 2.0   tp: 120.0\n",
      "Accuracy: 0.9787234042553191   trashold: 0.23   fp: 2.0   tp: 119.0\n",
      "Accuracy: 0.9787234042553191   trashold: 0.24   fp: 2.0   tp: 119.0\n",
      "Accuracy: 0.9840425531914894   trashold: 0.25   fp: 1.0   tp: 119.0\n",
      "Accuracy: 0.9840425531914894   trashold: 0.26   fp: 1.0   tp: 119.0\n",
      "Accuracy: 0.9840425531914894   trashold: 0.27   fp: 1.0   tp: 119.0\n",
      "Accuracy: 0.9840425531914894   trashold: 0.28   fp: 1.0   tp: 119.0\n",
      "Accuracy: 0.9840425531914894   trashold: 0.29   fp: 1.0   tp: 119.0\n",
      "Accuracy: 0.9840425531914894   trashold: 0.3   fp: 1.0   tp: 119.0\n",
      "Accuracy: 0.9840425531914894   trashold: 0.31   fp: 1.0   tp: 119.0\n",
      "Accuracy: 0.9840425531914894   trashold: 0.32   fp: 1.0   tp: 119.0\n",
      "Accuracy: 0.9840425531914894   trashold: 0.33   fp: 1.0   tp: 119.0\n",
      "Accuracy: 0.9840425531914894   trashold: 0.34   fp: 1.0   tp: 119.0\n",
      "Accuracy: 0.9787234042553191   trashold: 0.35000000000000003   fp: 1.0   tp: 118.0\n",
      "Accuracy: 0.9787234042553191   trashold: 0.36   fp: 1.0   tp: 118.0\n",
      "Accuracy: 0.973404255319149   trashold: 0.37   fp: 1.0   tp: 117.0\n",
      "Accuracy: 0.9680851063829787   trashold: 0.38   fp: 1.0   tp: 116.0\n",
      "Accuracy: 0.9680851063829787   trashold: 0.39   fp: 1.0   tp: 116.0\n",
      "Accuracy: 0.9680851063829787   trashold: 0.4   fp: 1.0   tp: 116.0\n",
      "Accuracy: 0.9680851063829787   trashold: 0.41000000000000003   fp: 1.0   tp: 116.0\n",
      "Accuracy: 0.9680851063829787   trashold: 0.42   fp: 1.0   tp: 116.0\n",
      "Accuracy: 0.9680851063829787   trashold: 0.43   fp: 1.0   tp: 116.0\n",
      "Accuracy: 0.9680851063829787   trashold: 0.44   fp: 1.0   tp: 116.0\n",
      "Accuracy: 0.9680851063829787   trashold: 0.45   fp: 1.0   tp: 116.0\n",
      "Accuracy: 0.9680851063829787   trashold: 0.46   fp: 1.0   tp: 116.0\n",
      "Accuracy: 0.9680851063829787   trashold: 0.47000000000000003   fp: 1.0   tp: 116.0\n",
      "Accuracy: 0.9680851063829787   trashold: 0.48   fp: 1.0   tp: 116.0\n",
      "Accuracy: 0.9627659574468085   trashold: 0.49   fp: 1.0   tp: 115.0\n",
      "Accuracy: 0.9627659574468085   trashold: 0.5   fp: 1.0   tp: 115.0\n",
      "Accuracy: 0.9627659574468085   trashold: 0.51   fp: 1.0   tp: 115.0\n",
      "Accuracy: 0.9627659574468085   trashold: 0.52   fp: 1.0   tp: 115.0\n",
      "Accuracy: 0.9627659574468085   trashold: 0.53   fp: 1.0   tp: 115.0\n",
      "Accuracy: 0.9627659574468085   trashold: 0.54   fp: 1.0   tp: 115.0\n",
      "Accuracy: 0.9627659574468085   trashold: 0.55   fp: 1.0   tp: 115.0\n",
      "Accuracy: 0.9627659574468085   trashold: 0.56   fp: 1.0   tp: 115.0\n",
      "Accuracy: 0.9627659574468085   trashold: 0.5700000000000001   fp: 1.0   tp: 115.0\n",
      "Accuracy: 0.9574468085106383   trashold: 0.58   fp: 1.0   tp: 114.0\n",
      "Accuracy: 0.9574468085106383   trashold: 0.59   fp: 1.0   tp: 114.0\n",
      "Accuracy: 0.9574468085106383   trashold: 0.6   fp: 1.0   tp: 114.0\n",
      "Accuracy: 0.9574468085106383   trashold: 0.61   fp: 1.0   tp: 114.0\n",
      "Accuracy: 0.9521276595744681   trashold: 0.62   fp: 1.0   tp: 113.0\n",
      "Accuracy: 0.9521276595744681   trashold: 0.63   fp: 1.0   tp: 113.0\n",
      "Accuracy: 0.9521276595744681   trashold: 0.64   fp: 1.0   tp: 113.0\n",
      "Accuracy: 0.9521276595744681   trashold: 0.65   fp: 1.0   tp: 113.0\n",
      "Accuracy: 0.9521276595744681   trashold: 0.66   fp: 1.0   tp: 113.0\n",
      "Accuracy: 0.9521276595744681   trashold: 0.67   fp: 1.0   tp: 113.0\n",
      "Accuracy: 0.9521276595744681   trashold: 0.68   fp: 1.0   tp: 113.0\n",
      "Accuracy: 0.9521276595744681   trashold: 0.6900000000000001   fp: 1.0   tp: 113.0\n",
      "Accuracy: 0.9468085106382979   trashold: 0.7000000000000001   fp: 1.0   tp: 112.0\n",
      "Accuracy: 0.9361702127659575   trashold: 0.71   fp: 1.0   tp: 110.0\n",
      "Accuracy: 0.9361702127659575   trashold: 0.72   fp: 1.0   tp: 110.0\n",
      "Accuracy: 0.9308510638297872   trashold: 0.73   fp: 1.0   tp: 109.0\n",
      "Accuracy: 0.9308510638297872   trashold: 0.74   fp: 1.0   tp: 109.0\n",
      "Accuracy: 0.9308510638297872   trashold: 0.75   fp: 1.0   tp: 109.0\n",
      "Accuracy: 0.9308510638297872   trashold: 0.76   fp: 1.0   tp: 109.0\n",
      "Accuracy: 0.9308510638297872   trashold: 0.77   fp: 1.0   tp: 109.0\n",
      "Accuracy: 0.9308510638297872   trashold: 0.78   fp: 1.0   tp: 109.0\n",
      "Accuracy: 0.925531914893617   trashold: 0.79   fp: 1.0   tp: 108.0\n",
      "Accuracy: 0.9148936170212766   trashold: 0.8   fp: 1.0   tp: 106.0\n",
      "Accuracy: 0.9148936170212766   trashold: 0.81   fp: 1.0   tp: 106.0\n",
      "Accuracy: 0.9148936170212766   trashold: 0.8200000000000001   fp: 1.0   tp: 106.0\n",
      "Accuracy: 0.9148936170212766   trashold: 0.8300000000000001   fp: 1.0   tp: 106.0\n",
      "Accuracy: 0.9148936170212766   trashold: 0.84   fp: 0.0   tp: 105.0\n",
      "Accuracy: 0.9095744680851063   trashold: 0.85   fp: 0.0   tp: 104.0\n",
      "Accuracy: 0.898936170212766   trashold: 0.86   fp: 0.0   tp: 102.0\n",
      "Accuracy: 0.8776595744680851   trashold: 0.87   fp: 0.0   tp: 98.0\n",
      "Accuracy: 0.8776595744680851   trashold: 0.88   fp: 0.0   tp: 98.0\n",
      "Accuracy: 0.8670212765957447   trashold: 0.89   fp: 0.0   tp: 96.0\n",
      "Accuracy: 0.8617021276595744   trashold: 0.9   fp: 0.0   tp: 95.0\n",
      "Accuracy: 0.8617021276595744   trashold: 0.91   fp: 0.0   tp: 95.0\n",
      "Accuracy: 0.8563829787234043   trashold: 0.92   fp: 0.0   tp: 94.0\n",
      "Accuracy: 0.851063829787234   trashold: 0.93   fp: 0.0   tp: 93.0\n",
      "Accuracy: 0.8351063829787234   trashold: 0.9400000000000001   fp: 0.0   tp: 90.0\n",
      "Accuracy: 0.824468085106383   trashold: 0.9500000000000001   fp: 0.0   tp: 88.0\n",
      "Accuracy: 0.8138297872340425   trashold: 0.96   fp: 0.0   tp: 86.0\n",
      "Accuracy: 0.8031914893617021   trashold: 0.97   fp: 0.0   tp: 84.0\n",
      "Accuracy: 0.7819148936170213   trashold: 0.98   fp: 0.0   tp: 80.0\n",
      "Accuracy: 0.6914893617021277   trashold: 0.99   fp: 0.0   tp: 63.0\n"
     ]
    }
   ],
   "source": [
    "performances = []\n",
    "fps, tps = [], []\n",
    "... #TODO creare un loop che popola i falsi positivi e i true positive, quindi nel primo elemento \n",
    "#di fps ci sarà il numero di falsi positivi per il primo classificatore che ottengo usando la prima trashold\n",
    "\n",
    "for threshold in thresholds:\n",
    "    predicted_labels = scores >= threshold\n",
    "\n",
    "    fp, tp = eval_fp_tp(test_labels, predicted_labels)\n",
    "\n",
    "    fps.append(fp)\n",
    "    tps.append(tp)\n",
    "\n",
    "    performances.append((eval_accuracy(test_labels,predicted_labels),threshold,fp,tp))\n",
    "\n",
    "#TODO l'array performance deve avere questa forma, con accuratezza, trashold ecc\n",
    "# performances [(acc, t, fp, tp)]\n",
    "\n",
    "performances = np.array(performances)\n",
    "for p in performances:\n",
    "\n",
    "    print(\"Accuracy: \" + str(p[0]) + \"   trashold: \" + str(p[1]) + \"   fp: \" + str(p[2]) + \"   tp: \" + str(p[3]))"
   ]
  },
  {
   "attachments": {},
   "cell_type": "markdown",
   "metadata": {},
   "source": [
    "# Plotting\n",
    "\n",
    "Let us then start plotting the coverage plot for the obtained classifications."
   ]
  },
  {
   "cell_type": "code",
   "execution_count": 401,
   "metadata": {},
   "outputs": [
    {
     "data": {
      "text/plain": [
       "[<matplotlib.lines.Line2D at 0x23af08f5f90>]"
      ]
     },
     "execution_count": 401,
     "metadata": {},
     "output_type": "execute_result"
    },
    {
     "data": {
      "image/png": "[encoded data removed]",
      "text/plain": [
       "<Figure size 640x480 with 1 Axes>"
      ]
     },
     "metadata": {},
     "output_type": "display_data"
    }
   ],
   "source": [
    "plt.plot(fps, tps)\n"
   ]
  },
  {
   "attachments": {},
   "cell_type": "markdown",
   "metadata": {},
   "source": [
    "# Checking performances for threshold 0.5\n",
    "\n",
    "The predict_proba method we used to get the score returns the probability that examples belong to the positive class. Usually the positive class is then predicted as score > 0.5 (since in this case it is the one with the largest likelihood).\n",
    "\n",
    "Let's then see where this classifier (i.e., the one obtained setting the threshold to 0.5) lays in the coverage plot and if there are better options.\n",
    "\n",
    "**note**: since we saved interesting stats in the `performances` array, we can retrieve the fp, tp position of the classifier we get by setting the thresholds to 0.5, by finding the position of the row we are interested using the expression: `performances[:,1] == 0.5` and then using the resulting boolean vector to retrieve the correct row of the matrix: `performances[performances[:,1] == 0.5]`.\n",
    "```"
   ]
  },
  {
   "cell_type": "code",
   "execution_count": 402,
   "metadata": {},
   "outputs": [
    {
     "data": {
      "text/plain": [
       "[<matplotlib.lines.Line2D at 0x23aef39f350>]"
      ]
     },
     "execution_count": 402,
     "metadata": {},
     "output_type": "execute_result"
    },
    {
     "data": {
      "image/png": "[encoded data removed]",
      "text/plain": [
       "<Figure size 640x480 with 1 Axes>"
      ]
     },
     "metadata": {},
     "output_type": "display_data"
    }
   ],
   "source": [
    "plt.plot(fps, tps)\n",
    "accuracy, threshold, fp, tp = performances[performances[:,1] == 0.5][0]\n",
    "plt.scatter(fp,tp,color='red')\n",
    "plt.plot([fp-10,fp+10],[tp-10,tp+10], color=\"red\")"
   ]
  },
  {
   "attachments": {},
   "cell_type": "markdown",
   "metadata": {},
   "source": [
    "As it is shown by the red dot and the red line, threshold 0.5 is a good one, but apparently two other points can reach a better classification.\n",
    "\n",
    "Let us see where these point lay in the plot and what is their accuracy."
   ]
  },
  {
   "cell_type": "code",
   "execution_count": 403,
   "metadata": {},
   "outputs": [
    {
     "data": {
      "text/plain": [
       "array([[  0.96808511,   0.16      ,   5.        , 120.        ],\n",
       "       [  0.96808511,   0.17      ,   5.        , 120.        ],\n",
       "       [  0.97340426,   0.18      ,   4.        , 120.        ],\n",
       "       [  0.97340426,   0.19      ,   4.        , 120.        ],\n",
       "       [  0.97340426,   0.2       ,   4.        , 120.        ],\n",
       "       [  0.97340426,   0.21      ,   4.        , 120.        ],\n",
       "       [  0.98404255,   0.22      ,   2.        , 120.        ],\n",
       "       [  0.9787234 ,   0.23      ,   2.        , 119.        ],\n",
       "       [  0.9787234 ,   0.24      ,   2.        , 119.        ],\n",
       "       [  0.98404255,   0.25      ,   1.        , 119.        ],\n",
       "       [  0.98404255,   0.26      ,   1.        , 119.        ],\n",
       "       [  0.98404255,   0.27      ,   1.        , 119.        ],\n",
       "       [  0.98404255,   0.28      ,   1.        , 119.        ],\n",
       "       [  0.98404255,   0.29      ,   1.        , 119.        ],\n",
       "       [  0.98404255,   0.3       ,   1.        , 119.        ],\n",
       "       [  0.98404255,   0.31      ,   1.        , 119.        ],\n",
       "       [  0.98404255,   0.32      ,   1.        , 119.        ],\n",
       "       [  0.98404255,   0.33      ,   1.        , 119.        ],\n",
       "       [  0.98404255,   0.34      ,   1.        , 119.        ],\n",
       "       [  0.9787234 ,   0.35      ,   1.        , 118.        ],\n",
       "       [  0.9787234 ,   0.36      ,   1.        , 118.        ],\n",
       "       [  0.97340426,   0.37      ,   1.        , 117.        ],\n",
       "       [  0.96808511,   0.38      ,   1.        , 116.        ],\n",
       "       [  0.96808511,   0.39      ,   1.        , 116.        ],\n",
       "       [  0.96808511,   0.4       ,   1.        , 116.        ],\n",
       "       [  0.96808511,   0.41      ,   1.        , 116.        ],\n",
       "       [  0.96808511,   0.42      ,   1.        , 116.        ],\n",
       "       [  0.96808511,   0.43      ,   1.        , 116.        ],\n",
       "       [  0.96808511,   0.44      ,   1.        , 116.        ],\n",
       "       [  0.96808511,   0.45      ,   1.        , 116.        ],\n",
       "       [  0.96808511,   0.46      ,   1.        , 116.        ],\n",
       "       [  0.96808511,   0.47      ,   1.        , 116.        ],\n",
       "       [  0.96808511,   0.48      ,   1.        , 116.        ]])"
      ]
     },
     "execution_count": 403,
     "metadata": {},
     "output_type": "execute_result"
    }
   ],
   "source": [
    "# Note: the subscription returns a matrix with a single row, but still two dimensions, \n",
    "# we need to get the element in the first position of that matrix...\n",
    "\n",
    "perf05 = performances[performances[:, 1] == 0.5][0,0] \n",
    "performances[performances[:,0] > perf05]"
   ]
  },
  {
   "attachments": {},
   "cell_type": "markdown",
   "metadata": {},
   "source": [
    "The two points that we are looking for are then in position (5,121) and (1,117)"
   ]
  },
  {
   "cell_type": "code",
   "execution_count": 404,
   "metadata": {},
   "outputs": [
    {
     "data": {
      "text/plain": [
       "[<matplotlib.lines.Line2D at 0x23af09de950>]"
      ]
     },
     "execution_count": 404,
     "metadata": {},
     "output_type": "execute_result"
    },
    {
     "data": {
      "image/png": "[encoded data removed]",
      "text/plain": [
       "<Figure size 640x480 with 1 Axes>"
      ]
     },
     "metadata": {},
     "output_type": "display_data"
    }
   ],
   "source": [
    "plt.plot(fps, tps)\n",
    "fp, tp = eval_fp_tp(test_labels, scores > 0.5)\n",
    "plt.scatter(fp,tp, color=\"red\")\n",
    "plt.scatter(5,121, color=\"orange\")\n",
    "plt.scatter(1,117, color=\"orange\")\n",
    "plt.plot([fp-10,fp+10],[tp-10,tp+10], color=\"red\")"
   ]
  },
  {
   "attachments": {},
   "cell_type": "markdown",
   "metadata": {},
   "source": [
    "These two points (that we found by looking only to the accuracies) are indeed the two points that the plot show having a better accuracy. "
   ]
  }
 ],
 "metadata": {
  "kernelspec": {
   "display_name": "Python 3.10.6 64-bit",
   "language": "python",
   "name": "python3"
  },
  "language_info": {
   "codemirror_mode": {
    "name": "ipython",
    "version": 3
   },
   "file_extension": ".py",
   "mimetype": "text/x-python",
   "name": "python",
   "nbconvert_exporter": "python",
   "pygments_lexer": "ipython3",
   "version": "3.10.6"
  },
  "orig_nbformat": 2,
  "vscode": {
   "interpreter": {
    "hash": "9c92e2d91347891a775597460ced9ced45550a53bd4d3e0bf3522d584ebb9c2d"
   }
  }
 },
 "nbformat": 4,
 "nbformat_minor": 2
}
